{
 "cells": [
  {
   "cell_type": "markdown",
   "metadata": {
    "pycharm": {
     "name": "#%% md\n"
    }
   },
   "source": [
    "# КОМП’ЮТЕРНИЙ ПРАКТИКУМ №1"
   ]
  },
  {
   "cell_type": "markdown",
   "metadata": {
    "pycharm": {
     "name": "#%% md\n"
    }
   },
   "source": [
    "## ПЕРЕВІРКА ГЕНЕРАТОРА ВИПАДКОВИХ ЧИСЕЛ НА ВІДПОВІДНІСТЬ ЗАКОНУ РОЗПОДІЛУ"
   ]
  },
  {
   "attachments": {},
   "cell_type": "markdown",
   "metadata": {
    "pycharm": {
     "name": "#%% md\n"
    }
   },
   "source": [
    "## Коробка Ілля ІП-91"
   ]
  },
  {
   "cell_type": "markdown",
   "metadata": {},
   "source": []
  },
  {
   "cell_type": "markdown",
   "metadata": {
    "pycharm": {
     "name": "#%% md\n"
    }
   },
   "source": [
    "## Залежності"
   ]
  },
  {
   "cell_type": "code",
   "execution_count": 1,
   "metadata": {
    "pycharm": {
     "name": "#%%\n"
    }
   },
   "outputs": [],
   "source": [
    "import math\n",
    "import random\n",
    "import numpy as np\n",
    "import matplotlib.pyplot as plt\n",
    "from scipy import stats"
   ]
  },
  {
   "cell_type": "markdown",
   "metadata": {
    "collapsed": false,
    "pycharm": {
     "name": "#%% md\n"
    }
   },
   "source": [
    "## Вивід на екран - форматування"
   ]
  },
  {
   "cell_type": "code",
   "execution_count": 2,
   "metadata": {
    "pycharm": {
     "name": "#%%\n"
    }
   },
   "outputs": [],
   "source": [
    "def build_histogram(data, bins, title, color='blue'):\n",
    "    _, ax = plt.subplots(figsize=(8, 6))\n",
    "\n",
    "    ax.set_title(title)\n",
    "    ax.set_xlabel('Value')\n",
    "    ax.set_ylabel('Frequency')\n",
    "\n",
    "    ax.grid(True)\n",
    "    ax.hist(data, bins=bins, color=color)\n",
    "    return ax\n",
    "\n",
    "def format_statistics_info(data, title):\n",
    "    mean, std = data\n",
    "    return f'{title}: \\nMean: {mean:.3f}, Std: {std:.3f}'\n",
    "\n",
    "def format_chi_square_info(chi2, chi2_k, title):\n",
    "    return f'{title}: \\nChi^2: {chi2:.3f}, Chi^2 k: {chi2_k}'"
   ]
  },
  {
   "cell_type": "markdown",
   "metadata": {},
   "source": [
    "## Обчислення значень"
   ]
  },
  {
   "cell_type": "code",
   "execution_count": 3,
   "metadata": {},
   "outputs": [],
   "source": [
    "# How many columns will fit the histogram\n",
    "def sturges_bins_amount(items_amt):\n",
    "    return math.ceil(math.log2(items_amt) + 1)\n",
    "\n",
    "# Create bins (sections borders on histogram) pairs\n",
    "def split_bins(bins):\n",
    "    return [(bins[idx - 1], bins[idx]) for idx in range(1, bins.size)]\n",
    "\n",
    "def calculate_mean_std(items):\n",
    "    mean = np.mean(items)\n",
    "    std = np.std(items, ddof=1)\n",
    "    return (mean, std)\n",
    "\n",
    "# Chi2 from table (pre-defined) (Percent point function - ppf)\n",
    "def calculate_chi2_k(alpha, bins_amt, params_amt):\n",
    "    return stats.chi2.ppf(1 - alpha, bins_amt - params_amt - 1)\n",
    "\n",
    "# Chi2 calculated by formula\n",
    "def calculate_chi2(items_amt, values, bins, compute_step, *args):\n",
    "    bins_pairs = split_bins(bins)\n",
    "    probabilities_expected = np.array(\n",
    "        [compute_step(left, right, *args) for left, right in bins_pairs]\n",
    "    )\n",
    "    values_expected = items_amt * probabilities_expected\n",
    "    chi2 = np.sum(np.square(values - values_expected) / values_expected)\n",
    "    return chi2\n",
    "\n",
    "def is_matching_chi2_law(chi2, chi2_k):\n",
    "    return chi2 <= chi2_k"
   ]
  },
  {
   "cell_type": "markdown",
   "metadata": {},
   "source": [
    "# Експоненційний закон розподілу"
   ]
  },
  {
   "cell_type": "markdown",
   "metadata": {},
   "source": [
    "## Конфігурація графіку гістограми"
   ]
  },
  {
   "cell_type": "code",
   "execution_count": 4,
   "metadata": {},
   "outputs": [
    {
     "name": "stdout",
     "output_type": "stream",
     "text": [
      "Bins for histogram Exponential: 15\n"
     ]
    }
   ],
   "source": [
    "numbers_to_generate = 10000\n",
    "exponential_bins = sturges_bins_amount(numbers_to_generate)\n",
    "print('Bins for histogram Exponential:', exponential_bins)"
   ]
  },
  {
   "cell_type": "markdown",
   "metadata": {},
   "source": [
    "## Формулюємо закон розподілу"
   ]
  },
  {
   "cell_type": "code",
   "execution_count": 5,
   "metadata": {},
   "outputs": [
    {
     "data": {
      "text/plain": [
       "array([0.40488618, 0.73891936, 0.19671033, ..., 0.25046433, 0.10784613,\n",
       "       0.19769267])"
      ]
     },
     "execution_count": 5,
     "metadata": {},
     "output_type": "execute_result"
    }
   ],
   "source": [
    "lambda_value = 4\n",
    "xi = np.random.uniform(size=numbers_to_generate)\n",
    "exponential_law = -1 / lambda_value * np.log(xi)\n",
    "exponential_law"
   ]
  },
  {
   "cell_type": "markdown",
   "metadata": {},
   "source": [
    "## Будуємо графік для перевірки закону"
   ]
  },
  {
   "cell_type": "code",
   "execution_count": 6,
   "metadata": {},
   "outputs": [
    {
     "data": {
      "text/plain": [
       "<AxesSubplot:title={'center':'Law - Exponential'}, xlabel='Value', ylabel='Frequency'>"
      ]
     },
     "execution_count": 6,
     "metadata": {},
     "output_type": "execute_result"
    },
    {
     "data": {
      "image/png": "[encoded data removed]",
      "text/plain": [
       "<Figure size 576x432 with 1 Axes>"
      ]
     },
     "metadata": {
      "needs_background": "light"
     },
     "output_type": "display_data"
    }
   ],
   "source": [
    "counts, bins = np.histogram(exponential_law, bins=exponential_bins)\n",
    "build_histogram(exponential_law, exponential_bins, title='Law - Exponential', color='green')"
   ]
  },
  {
   "cell_type": "markdown",
   "metadata": {},
   "source": [
    "## Статистика за законом"
   ]
  },
  {
   "cell_type": "code",
   "execution_count": 7,
   "metadata": {},
   "outputs": [
    {
     "name": "stdout",
     "output_type": "stream",
     "text": [
      "Exponential: \n",
      "Mean: 0.251, Std: 0.248\n"
     ]
    }
   ],
   "source": [
    "exponential_stats = calculate_mean_std(exponential_law)\n",
    "exponential_mean, exponential_std = exponential_stats\n",
    "fmt = format_statistics_info(exponential_stats, 'Exponential')\n",
    "print(fmt)"
   ]
  },
  {
   "cell_type": "markdown",
   "metadata": {},
   "source": [
    "## Перевірка за критерієм згоди xi^2"
   ]
  },
  {
   "cell_type": "code",
   "execution_count": 8,
   "metadata": {},
   "outputs": [
    {
     "name": "stdout",
     "output_type": "stream",
     "text": [
      "Exponential: \n",
      "Chi^2: 25.292, Chi^2 k: 22.362032494826934\n"
     ]
    }
   ],
   "source": [
    "def calculate_exponential_step(left, right, lambda_value):\n",
    "    return np.exp(-lambda_value * left) - np.exp(-lambda_value * right)\n",
    "\n",
    "lambda_expected = 1 / exponential_mean\n",
    "exponential_chi2 = calculate_chi2(numbers_to_generate, counts, bins, \n",
    "                                calculate_exponential_step, lambda_expected)\n",
    "exponential_chi2_k = calculate_chi2_k(0.05, exponential_bins, 1)\n",
    "fmt = format_chi_square_info(exponential_chi2, exponential_chi2_k, 'Exponential')\n",
    "print(fmt)"
   ]
  },
  {
   "cell_type": "code",
   "execution_count": 9,
   "metadata": {},
   "outputs": [
    {
     "name": "stdout",
     "output_type": "stream",
     "text": [
      "Exponential law works: False\n"
     ]
    }
   ],
   "source": [
    "print('Exponential law works:', is_matching_chi2_law(exponential_chi2, exponential_chi2_k))"
   ]
  },
  {
   "cell_type": "markdown",
   "metadata": {},
   "source": [
    "# Нормальний закон розподілу"
   ]
  },
  {
   "cell_type": "markdown",
   "metadata": {},
   "source": [
    "## Конфігурація графіку гістограми"
   ]
  },
  {
   "cell_type": "code",
   "execution_count": 10,
   "metadata": {},
   "outputs": [
    {
     "name": "stdout",
     "output_type": "stream",
     "text": [
      "Bins for histogram Normal: 15\n"
     ]
    }
   ],
   "source": [
    "numbers_to_generate = 10000\n",
    "normal_init_bins = sturges_bins_amount(numbers_to_generate)\n",
    "print('Bins for histogram Normal:', exponential_bins)"
   ]
  },
  {
   "cell_type": "markdown",
   "metadata": {},
   "source": [
    "## Формулюємо закон розподілу"
   ]
  },
  {
   "cell_type": "code",
   "execution_count": 11,
   "metadata": {},
   "outputs": [
    {
     "data": {
      "text/plain": [
       "array([ -7.69648723, -14.24470241,  -4.57122993, ...,  -0.39619361,\n",
       "        -2.32987113,   1.90398954])"
      ]
     },
     "execution_count": 11,
     "metadata": {},
     "output_type": "execute_result"
    }
   ],
   "source": [
    "sigma_value = 4\n",
    "a_value = -5\n",
    "\n",
    "normal_law = np.zeros(numbers_to_generate)\n",
    "for idx in range(numbers_to_generate):\n",
    "    mu_value = np.random.uniform(size=12).sum() - 6\n",
    "    normal_law[idx] = sigma_value * mu_value + a_value\n",
    "normal_law"
   ]
  },
  {
   "cell_type": "markdown",
   "metadata": {},
   "source": [
    "## Будуємо графік для перевірки закону"
   ]
  },
  {
   "cell_type": "code",
   "execution_count": 12,
   "metadata": {},
   "outputs": [
    {
     "data": {
      "text/plain": [
       "<AxesSubplot:title={'center':'Law - Normal'}, xlabel='Value', ylabel='Frequency'>"
      ]
     },
     "execution_count": 12,
     "metadata": {},
     "output_type": "execute_result"
    },
    {
     "data": {
      "image/png": "[encoded data removed]",
      "text/plain": [
       "<Figure size 576x432 with 1 Axes>"
      ]
     },
     "metadata": {
      "needs_background": "light"
     },
     "output_type": "display_data"
    }
   ],
   "source": [
    "normal_counts, normal_bins = np.histogram(normal_law, bins=normal_init_bins)\n",
    "build_histogram(normal_law, normal_bins, title='Law - Normal', color='yellow')"
   ]
  },
  {
   "cell_type": "markdown",
   "metadata": {},
   "source": [
    "## Статистика за законом"
   ]
  },
  {
   "cell_type": "code",
   "execution_count": 13,
   "metadata": {},
   "outputs": [
    {
     "name": "stdout",
     "output_type": "stream",
     "text": [
      "Normal: \n",
      "Mean: -5.005, Std: 4.013\n"
     ]
    }
   ],
   "source": [
    "normal_stats = calculate_mean_std(normal_law)\n",
    "normal_mean, normal_std = normal_stats\n",
    "fmt = format_statistics_info(normal_stats, 'Normal')\n",
    "print(fmt)"
   ]
  },
  {
   "cell_type": "markdown",
   "metadata": {},
   "source": [
    "## Перевірка за критерієм згоди xi^2"
   ]
  },
  {
   "cell_type": "code",
   "execution_count": 14,
   "metadata": {},
   "outputs": [
    {
     "name": "stdout",
     "output_type": "stream",
     "text": [
      "Normal: \n",
      "Chi^2: 24.024, Chi^2 k: 21.02606981748307\n"
     ]
    }
   ],
   "source": [
    "# Cumulative distribution function - cdf\n",
    "def calculate_normal_step(left, right, sigma_value, a_value):\n",
    "    left_cdf, right_cdf = stats.norm.cdf([left, right], loc=sigma_value, scale=a_value)\n",
    "    return right_cdf - left_cdf\n",
    "\n",
    "sigma_expected = normal_mean\n",
    "normal_expected = normal_std\n",
    "normal_chi2 = calculate_chi2(numbers_to_generate, normal_counts, normal_bins, \n",
    "                            calculate_normal_step, sigma_expected, normal_expected)\n",
    "normal_chi2_k = calculate_chi2_k(0.05, normal_init_bins, 2)\n",
    "fmt = format_chi_square_info(normal_chi2, normal_chi2_k, 'Normal')\n",
    "print(fmt)"
   ]
  },
  {
   "cell_type": "code",
   "execution_count": 15,
   "metadata": {},
   "outputs": [
    {
     "name": "stdout",
     "output_type": "stream",
     "text": [
      "Normal Law works: False\n"
     ]
    }
   ],
   "source": [
    "print('Normal Law works:', is_matching_chi2_law(normal_chi2, normal_chi2_k))"
   ]
  },
  {
   "cell_type": "markdown",
   "metadata": {},
   "source": [
    "# Рівномірний закон розподілу"
   ]
  },
  {
   "cell_type": "markdown",
   "metadata": {},
   "source": [
    "## Конфігурація графіку гістограми"
   ]
  },
  {
   "cell_type": "code",
   "execution_count": 16,
   "metadata": {},
   "outputs": [
    {
     "name": "stdout",
     "output_type": "stream",
     "text": [
      "Bins for Uniform Law: 15\n"
     ]
    }
   ],
   "source": [
    "numbers_to_generate = 10000\n",
    "uniform_init_bins = sturges_bins_amount(numbers_to_generate)\n",
    "print('Bins for Uniform Law:', uniform_init_bins)"
   ]
  },
  {
   "cell_type": "markdown",
   "metadata": {},
   "source": [
    "## Формулюємо закон розподілу"
   ]
  },
  {
   "cell_type": "code",
   "execution_count": 17,
   "metadata": {},
   "outputs": [
    {
     "data": {
      "text/plain": [
       "array([0.15525671, 0.40653387, 0.01262546, ..., 0.09079719, 0.56668353,\n",
       "       0.94274306])"
      ]
     },
     "execution_count": 17,
     "metadata": {},
     "output_type": "execute_result"
    }
   ],
   "source": [
    "a_value = 5**13\n",
    "c_value = 2**31\n",
    "zi_value = np.random.uniform()\n",
    "\n",
    "uniform_law = np.zeros(numbers_to_generate)\n",
    "for idx in range(numbers_to_generate):\n",
    "    zi_value = (a_value * zi_value) % c_value\n",
    "    uniform_law[idx] = zi_value / c_value\n",
    "uniform_law\n"
   ]
  },
  {
   "cell_type": "markdown",
   "metadata": {},
   "source": [
    "## Будуємо графік для перевірки закону"
   ]
  },
  {
   "cell_type": "code",
   "execution_count": 18,
   "metadata": {},
   "outputs": [
    {
     "data": {
      "text/plain": [
       "<AxesSubplot:title={'center':'Law - Uniform'}, xlabel='Value', ylabel='Frequency'>"
      ]
     },
     "execution_count": 18,
     "metadata": {},
     "output_type": "execute_result"
    },
    {
     "data": {
      "image/png": "[encoded data removed]",
      "text/plain": [
       "<Figure size 576x432 with 1 Axes>"
      ]
     },
     "metadata": {
      "needs_background": "light"
     },
     "output_type": "display_data"
    }
   ],
   "source": [
    "uniform_counts, uniform_bins = np.histogram(uniform_law, bins=uniform_init_bins)\n",
    "build_histogram(uniform_law, uniform_bins, title='Law - Uniform', color='blue')"
   ]
  },
  {
   "cell_type": "markdown",
   "metadata": {},
   "source": [
    "## Статистика за законом"
   ]
  },
  {
   "cell_type": "code",
   "execution_count": 19,
   "metadata": {},
   "outputs": [
    {
     "name": "stdout",
     "output_type": "stream",
     "text": [
      "Uniform: \n",
      "Mean: 0.499, Std: 0.288\n"
     ]
    }
   ],
   "source": [
    "uniform_stats = calculate_mean_std(uniform_law)\n",
    "uniform_mean, uniform_std = uniform_stats\n",
    "fmt = format_statistics_info(uniform_stats, 'Uniform')\n",
    "print(fmt)"
   ]
  },
  {
   "cell_type": "markdown",
   "metadata": {},
   "source": [
    "## Перевірка за критерієм згоди xi^2"
   ]
  },
  {
   "cell_type": "code",
   "execution_count": 20,
   "metadata": {},
   "outputs": [
    {
     "name": "stdout",
     "output_type": "stream",
     "text": [
      "Uniform: \n",
      "Chi^2: 10.497, Chi^2 k: 21.02606981748307\n"
     ]
    }
   ],
   "source": [
    "def calculate_uniform_step(left, right, a_value, c_value):\n",
    "    return (right - left) / (c_value - a_value)\n",
    "\n",
    "a_expected = uniform_mean - 3 ** 0.5 * uniform_std\n",
    "c_expected = uniform_mean + 3 ** 0.5 * uniform_std\n",
    "uniform_chi2 = calculate_chi2(numbers_to_generate, uniform_counts, uniform_bins,\n",
    "                            calculate_uniform_step, a_expected, c_expected)\n",
    "uniform_chi2_k = calculate_chi2_k(0.05, uniform_init_bins, 2)\n",
    "fmt = format_chi_square_info(uniform_chi2, uniform_chi2_k, 'Uniform')\n",
    "print(fmt)"
   ]
  },
  {
   "cell_type": "code",
   "execution_count": 21,
   "metadata": {},
   "outputs": [
    {
     "name": "stdout",
     "output_type": "stream",
     "text": [
      "Uniform Law works: True\n"
     ]
    }
   ],
   "source": [
    "print('Uniform Law works:', is_matching_chi2_law(uniform_chi2, uniform_chi2_k))"
   ]
  }
 ],
 "metadata": {
  "interpreter": {
   "hash": "e7370f93d1d0cde622a1f8e1c04877d8463912d04d973331ad4851f04de6915a"
  },
  "kernelspec": {
   "display_name": "Python 3.10.4 64-bit",
   "name": "python3"
  },
  "language_info": {
   "codemirror_mode": {
    "name": "ipython",
    "version": 3
   },
   "file_extension": ".py",
   "mimetype": "text/x-python",
   "name": "python",
   "nbconvert_exporter": "python",
   "pygments_lexer": "ipython3",
   "version": "3.10.4"
  },
  "orig_nbformat": 4
 },
 "nbformat": 4,
 "nbformat_minor": 2
}
